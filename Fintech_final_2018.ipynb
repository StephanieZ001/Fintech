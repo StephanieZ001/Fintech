{
 "cells": [
  {
   "cell_type": "markdown",
   "metadata": {},
   "source": [
    "# Lending Club Payment Risk Prediction"
   ]
  },
  {
   "cell_type": "code",
   "execution_count": 1,
   "metadata": {},
   "outputs": [],
   "source": [
    "import pandas as pd\n",
    "import numpy as np\n",
    "import matplotlib.pyplot as plt\n",
    "%matplotlib inline\n",
    "import requests\n",
    "import pickle"
   ]
  },
  {
   "cell_type": "markdown",
   "metadata": {},
   "source": [
    "## 1. Importing Transaction data"
   ]
  },
  {
   "cell_type": "markdown",
   "metadata": {},
   "source": [
    "### 1.1  historical 2018 Q1 data"
   ]
  },
  {
   "cell_type": "code",
   "execution_count": 2,
   "metadata": {},
   "outputs": [
    {
     "name": "stderr",
     "output_type": "stream",
     "text": [
      "/usr/local/Cellar/python3/3.6.4_2/Frameworks/Python.framework/Versions/3.6/lib/python3.6/site-packages/IPython/core/interactiveshell.py:2728: DtypeWarning: Columns (0,112) have mixed types. Specify dtype option on import or set low_memory=False.\n",
      "  interactivity=interactivity, compiler=compiler, result=result)\n",
      "/usr/local/Cellar/python3/3.6.4_2/Frameworks/Python.framework/Versions/3.6/lib/python3.6/site-packages/IPython/core/interactiveshell.py:2728: DtypeWarning: Columns (0) have mixed types. Specify dtype option on import or set low_memory=False.\n",
      "  interactivity=interactivity, compiler=compiler, result=result)\n",
      "/usr/local/Cellar/python3/3.6.4_2/Frameworks/Python.framework/Versions/3.6/lib/python3.6/site-packages/IPython/core/interactiveshell.py:2728: DtypeWarning: Columns (0,123,124,125,128,129,130,133,139,140,141) have mixed types. Specify dtype option on import or set low_memory=False.\n",
      "  interactivity=interactivity, compiler=compiler, result=result)\n"
     ]
    }
   ],
   "source": [
    "# df_old1 = pd.read_csv('/Users/Stephanie_Zhang/Desktop/lendingclub/LoanStats_securev1_2018Q1.csv', skiprows=1)\n",
    "df_old2 = pd.read_csv('/Users/Stephanie_Zhang/Desktop/lendingclub/LoanStats_2017Q1.csv', skiprows=1)\n",
    "df_old3 = pd.read_csv('/Users/Stephanie_Zhang/Desktop/lendingclub/LoanStats_2017Q2.csv', skiprows=1)\n",
    "df_old4 = pd.read_csv('/Users/Stephanie_Zhang/Desktop/lendingclub/LoanStats_2017Q3.csv', skiprows=1)\n",
    "df_old5 = pd.read_csv('/Users/Stephanie_Zhang/Desktop/lendingclub/LoanStats_2017Q4.csv', skiprows=1)\n",
    "# df_old6 = pd.read_csv('/Users/Stephanie_Zhang/Desktop/lendingclub/LoanStats3d.csv', skiprows=1)"
   ]
  },
  {
   "cell_type": "code",
   "execution_count": 3,
   "metadata": {},
   "outputs": [
    {
     "data": {
      "text/plain": [
       "(96781, 105453, 122703, 118650)"
      ]
     },
     "execution_count": 3,
     "metadata": {},
     "output_type": "execute_result"
    }
   ],
   "source": [
    "# len(df_old1.columns), \n",
    "len(df_old2.columns), len(df_old3.columns), len(df_old4.columns), len(df_old5.columns), \\\n",
    "# len(df_old6.columns),\n",
    "len(df_old2), len(df_old3), len(df_old4), len(df_old5), \\\n",
    "# len(df_old6)"
   ]
  },
  {
   "cell_type": "code",
   "execution_count": 4,
   "metadata": {},
   "outputs": [],
   "source": [
    "df_old = pd.concat((df_old2, df_old3, df_old4, df_old5), axis = 0)"
   ]
  },
  {
   "cell_type": "code",
   "execution_count": 5,
   "metadata": {},
   "outputs": [
    {
     "data": {
      "text/plain": [
       "(145, 443587)"
      ]
     },
     "execution_count": 5,
     "metadata": {},
     "output_type": "execute_result"
    }
   ],
   "source": [
    "len(df_old.columns), len(df_old)"
   ]
  },
  {
   "cell_type": "code",
   "execution_count": 6,
   "metadata": {},
   "outputs": [
    {
     "data": {
      "text/plain": [
       "(443587, 145)"
      ]
     },
     "execution_count": 6,
     "metadata": {},
     "output_type": "execute_result"
    }
   ],
   "source": [
    "df_old.shape"
   ]
  },
  {
   "cell_type": "code",
   "execution_count": 7,
   "metadata": {},
   "outputs": [],
   "source": [
    "import requests\n",
    "import json\n",
    "header = { 'Authorization': 'MFlsdMVZe6dtdw/RzMruKtl6y1k='}\n",
    "r = requests.get(\"https://api.lendingclub.com/api/investor/v1/loans/listing\", headers = header)"
   ]
  },
  {
   "cell_type": "code",
   "execution_count": 8,
   "metadata": {},
   "outputs": [
    {
     "data": {
      "text/plain": [
       "dict"
      ]
     },
     "execution_count": 8,
     "metadata": {},
     "output_type": "execute_result"
    }
   ],
   "source": [
    "type(r.json())"
   ]
  },
  {
   "cell_type": "code",
   "execution_count": 9,
   "metadata": {},
   "outputs": [],
   "source": [
    "data = r.json()\n",
    "myData = data['loans']\n",
    "with open('testdata.txt', 'w') as outfile:\n",
    "    json.dump(myData, outfile)\n",
    "df_Curr = pd.read_json('testdata.txt')"
   ]
  },
  {
   "cell_type": "code",
   "execution_count": 10,
   "metadata": {},
   "outputs": [
    {
     "data": {
      "text/plain": [
       "63"
      ]
     },
     "execution_count": 10,
     "metadata": {},
     "output_type": "execute_result"
    }
   ],
   "source": [
    "len(df_Curr)"
   ]
  },
  {
   "cell_type": "code",
   "execution_count": 11,
   "metadata": {},
   "outputs": [
    {
     "data": {
      "text/plain": [
       "Index(['accNowDelinq', 'accOpenPast24Mths', 'acceptD', 'addrState', 'addrZip',\n",
       "       'allUtil', 'annualInc', 'annualIncJoint', 'applicationType',\n",
       "       'avgCurBal',\n",
       "       ...\n",
       "       'totCollAmt', 'totCurBal', 'totHiCredLim', 'totalAcc', 'totalBalExMort',\n",
       "       'totalBalIl', 'totalBcLimit', 'totalCuTl', 'totalIlHighCreditLimit',\n",
       "       'totalRevHiLim'],\n",
       "      dtype='object', length=119)"
      ]
     },
     "execution_count": 11,
     "metadata": {},
     "output_type": "execute_result"
    }
   ],
   "source": [
    "df_Curr.columns"
   ]
  },
  {
   "cell_type": "markdown",
   "metadata": {},
   "source": [
    "### 1.3 Column Name Adjustment for the data in 2016 and 2017"
   ]
  },
  {
   "cell_type": "code",
   "execution_count": 12,
   "metadata": {},
   "outputs": [],
   "source": [
    "listOld = []\n",
    "for column_name in df_old.columns.values:\n",
    "    Name = column_name.replace(\"_\",\"\")\n",
    "    listOld.append(Name)\n",
    "#     print (Name)"
   ]
  },
  {
   "cell_type": "code",
   "execution_count": 13,
   "metadata": {},
   "outputs": [],
   "source": [
    "def CapDown (string):\n",
    "    for i in range (len(string)):\n",
    "        string = string[0: i] + string[i].lower() + string[i+1:]\n",
    "    return string"
   ]
  },
  {
   "cell_type": "code",
   "execution_count": 14,
   "metadata": {},
   "outputs": [],
   "source": [
    "listCurr = []\n",
    "for column_name in df_Curr.columns.values:\n",
    "    listCurr.append(CapDown(column_name))\n",
    "#     print (CapDown(column_name))"
   ]
  },
  {
   "cell_type": "markdown",
   "metadata": {},
   "source": [
    "### 1.4 Variable Column Compare between the data of 2016 and 2017"
   ]
  },
  {
   "cell_type": "code",
   "execution_count": 15,
   "metadata": {},
   "outputs": [],
   "source": [
    "def compareCol (list1, list2):\n",
    "    same = []\n",
    "    different = []\n",
    "    for i in range (len(list1)):\n",
    "        if list1[i] in list2:\n",
    "            same.append(list1[i])\n",
    "        else:\n",
    "            different.append(list1[i])\n",
    "    return same, different"
   ]
  },
  {
   "cell_type": "code",
   "execution_count": 16,
   "metadata": {},
   "outputs": [],
   "source": [
    "sameCurr, differentCurr = compareCol(listCurr, listOld)\n",
    "sameOld, differentOld = compareCol(listOld, listCurr)\n",
    "# print (differentCurr)\n",
    "# print (differentOld)"
   ]
  },
  {
   "cell_type": "code",
   "execution_count": 17,
   "metadata": {},
   "outputs": [],
   "source": [
    "def LCS (str1, str2):\n",
    "    m = len(str1)\n",
    "    n = len(str2)\n",
    "    max = 0\n",
    "    common = list()\n",
    "    count = [[0] * (n + 1) for x in range (m + 1)]\n",
    "    for i in range (m + 1):\n",
    "        count [i][0] = 0\n",
    "    for j in range (n + 1):\n",
    "        count [0][j] = 0\n",
    "    for i in range (1, m + 1):\n",
    "        for j in range (1, n + 1):\n",
    "            if str1[i - 1] == str2[j - 1]:\n",
    "                count[i][j] = count[i - 1][j - 1] + 1\n",
    "                if max < count[i][j]:\n",
    "                    max = count[i][j]\n",
    "                    common.append(str1[i - 1])\n",
    "            else:\n",
    "                count[i][j] = 0\n",
    "    return (max)"
   ]
  },
  {
   "cell_type": "code",
   "execution_count": 18,
   "metadata": {},
   "outputs": [
    {
     "name": "stdout",
     "output_type": "stream",
     "text": [
      "3\n"
     ]
    }
   ],
   "source": [
    "print (LCS ('happy', 'halloppy'))"
   ]
  },
  {
   "cell_type": "code",
   "execution_count": 19,
   "metadata": {},
   "outputs": [],
   "source": [
    "# for i in range (len(differentCurr)):\n",
    "#     for j in range (len(differentOld)):\n",
    "#         if LCS (differentCurr[i], differentOld[j]) > 3 : \n",
    "#             print (LCS (differentCurr[i], differentOld[j]), differentCurr[i], differentOld[j])"
   ]
  },
  {
   "cell_type": "markdown",
   "metadata": {},
   "source": [
    "### 1.5 Adjust the Columns"
   ]
  },
  {
   "cell_type": "code",
   "execution_count": 20,
   "metadata": {},
   "outputs": [],
   "source": [
    "# rename according to the name comparison\n",
    "df_Curr.columns = listCurr\n",
    "df_old.columns = listOld\n",
    "# df_Curr.columns, df_old.columns\n",
    "\n",
    "df_Curr = df_Curr.rename(columns={'creditpulld': 'lastcreditpulld'})\n",
    "df_Curr = df_Curr.rename(columns={'fundedamount': 'fundedamnt'})\n",
    "df_Curr = df_Curr.rename(columns={'loanamount': 'loanamnt'})\n",
    "df_Curr = df_Curr.rename(columns={'numacctsever120ppd': 'numacctsever120pd'})"
   ]
  },
  {
   "cell_type": "code",
   "execution_count": 21,
   "metadata": {},
   "outputs": [
    {
     "name": "stdout",
     "output_type": "stream",
     "text": [
      "['acceptd', 'addrzip', 'expd', 'expdefaultrate', 'ficorangehigh', 'ficorangelow', 'housingpayment', 'ilsexpd', 'investorcount', 'isincv', 'isincvjoint', 'listd', 'mtgpayment', 'reviewstatus', 'reviewstatusd', 'secappficorangehigh', 'secappficorangelow', 'servicefeerate']\n",
      "['fundedamntinv', 'verificationstatus', 'issued', 'loanstatus', 'pymntplan', 'url', 'title', 'zipcode', 'outprncp', 'outprncpinv', 'totalpymnt', 'totalpymntinv', 'totalrecprncp', 'totalrecint', 'totalreclatefee', 'recoveries', 'collectionrecoveryfee', 'lastpymntd', 'lastpymntamnt', 'nextpymntd', 'policycode', 'verificationstatusjoint', 'hardshipflag', 'hardshiptype', 'hardshipreason', 'hardshipstatus', 'deferralterm', 'hardshipamount', 'hardshipstartdate', 'hardshipenddate', 'paymentplanstartdate', 'hardshiplength', 'hardshipdpd', 'hardshiploanstatus', 'origprojectedadditionalaccruedinterest', 'hardshippayoffbalanceamount', 'hardshiplastpaymentamount', 'debtsettlementflag', 'debtsettlementflagdate', 'settlementstatus', 'settlementdate', 'settlementamount', 'settlementpercentage', 'settlementterm']\n"
     ]
    }
   ],
   "source": [
    "# another round of calculating the same and difference list\n",
    "sameCurr2, differentCurr2 = compareCol(df_Curr.columns, df_old.columns)\n",
    "sameOld2, differentOld2 = compareCol(df_old.columns, df_Curr.columns)\n",
    "print (differentCurr2)\n",
    "print (differentOld2)"
   ]
  },
  {
   "cell_type": "code",
   "execution_count": 22,
   "metadata": {},
   "outputs": [
    {
     "data": {
      "text/plain": [
       "101"
      ]
     },
     "execution_count": 22,
     "metadata": {},
     "output_type": "execute_result"
    }
   ],
   "source": [
    "# will delete the difference in new list differentCurr2\n",
    "for i in range(len(differentCurr2)):\n",
    "    df_Curr = df_Curr.drop(differentCurr2[i], 1)\n",
    "len(df_Curr.columns)"
   ]
  },
  {
   "cell_type": "code",
   "execution_count": 23,
   "metadata": {},
   "outputs": [
    {
     "data": {
      "text/plain": [
       "103"
      ]
     },
     "execution_count": 23,
     "metadata": {},
     "output_type": "execute_result"
    }
   ],
   "source": [
    "# will delete the difference in new list differentOld2:\n",
    "for i in range(len(differentOld2)):\n",
    "    if differentOld2[i] != 'loanstatus' and differentOld2[i] != 'issued':\n",
    "        df_old = df_old.drop(differentOld2[i], 1)\n",
    "len(df_old.columns)"
   ]
  },
  {
   "cell_type": "markdown",
   "metadata": {},
   "source": [
    "# 2. Split train & test data, and aggregate into Full_data"
   ]
  },
  {
   "cell_type": "markdown",
   "metadata": {},
   "source": [
    "### 2.1 Target variable: loanstatus"
   ]
  },
  {
   "cell_type": "code",
   "execution_count": 24,
   "metadata": {},
   "outputs": [
    {
     "name": "stdout",
     "output_type": "stream",
     "text": [
      "Current               371147\n",
      "Fully Paid             51219\n",
      "Charged Off             8577\n",
      "Late (31-120 days)      7144\n",
      "In Grace Period         3174\n",
      "Late (16-30 days)       2198\n",
      "Default                  120\n",
      "Name: loanstatus, dtype: int64\n",
      "1    51219\n",
      "0     8577\n",
      "Name: loanstatus, dtype: int64\n"
     ]
    },
    {
     "name": "stderr",
     "output_type": "stream",
     "text": [
      "/usr/local/Cellar/python3/3.6.4_2/Frameworks/Python.framework/Versions/3.6/lib/python3.6/site-packages/ipykernel_launcher.py:3: SettingWithCopyWarning: \n",
      "A value is trying to be set on a copy of a slice from a DataFrame.\n",
      "Try using .loc[row_indexer,col_indexer] = value instead\n",
      "\n",
      "See the caveats in the documentation: http://pandas.pydata.org/pandas-docs/stable/indexing.html#indexing-view-versus-copy\n",
      "  This is separate from the ipykernel package so we can avoid doing imports until\n"
     ]
    }
   ],
   "source": [
    "print(df_old.loanstatus.value_counts())\n",
    "df_old_select = df_old.query(\"loanstatus == 'Fully Paid' or loanstatus == 'Charged Off' or loanstatus == 'default'\")\n",
    "df_old_select['loanstatus'] = df_old_select.loanstatus.map({\"Charged Off\": 0, \"default\": 0, \"Fully Paid\": 1})\n",
    "# print(ddf_old_select.loanstatus)\n",
    "print(df_old_select.loanstatus.value_counts())"
   ]
  },
  {
   "cell_type": "code",
   "execution_count": 25,
   "metadata": {},
   "outputs": [
    {
     "name": "stderr",
     "output_type": "stream",
     "text": [
      "/usr/local/Cellar/python3/3.6.4_2/Frameworks/Python.framework/Versions/3.6/lib/python3.6/site-packages/ipykernel_launcher.py:2: SettingWithCopyWarning: \n",
      "A value is trying to be set on a copy of a slice from a DataFrame.\n",
      "Try using .loc[row_indexer,col_indexer] = value instead\n",
      "\n",
      "See the caveats in the documentation: http://pandas.pydata.org/pandas-docs/stable/indexing.html#indexing-view-versus-copy\n",
      "  \n"
     ]
    }
   ],
   "source": [
    "df_old_select = df_old.query(\"loanstatus == 'Fully Paid' or loanstatus == 'Charged Off' or loanstatus == 'default'\")\n",
    "df_old_select['loanstatus'] = df_old_select.loanstatus.map({\"Charged Off\": 0, \"default\": 0, \"Fully Paid\": 1})"
   ]
  },
  {
   "cell_type": "markdown",
   "metadata": {},
   "source": [
    "### Upsampling"
   ]
  },
  {
   "cell_type": "code",
   "execution_count": 26,
   "metadata": {},
   "outputs": [],
   "source": [
    "upsampling = df_old_select.query(\"loanstatus == 0\")"
   ]
  },
  {
   "cell_type": "code",
   "execution_count": 27,
   "metadata": {},
   "outputs": [],
   "source": [
    "for i in range(10):\n",
    "    df_old_select = pd.concat((df_old_select, upsampling), axis = 0)"
   ]
  },
  {
   "cell_type": "code",
   "execution_count": 28,
   "metadata": {},
   "outputs": [
    {
     "data": {
      "text/plain": [
       "145566"
      ]
     },
     "execution_count": 28,
     "metadata": {},
     "output_type": "execute_result"
    }
   ],
   "source": [
    "len(df_old_select)"
   ]
  },
  {
   "cell_type": "code",
   "execution_count": 29,
   "metadata": {},
   "outputs": [
    {
     "data": {
      "text/plain": [
       "0    94347\n",
       "1    51219\n",
       "Name: loanstatus, dtype: int64"
      ]
     },
     "execution_count": 29,
     "metadata": {},
     "output_type": "execute_result"
    }
   ],
   "source": [
    "df_old_select.loanstatus.value_counts()"
   ]
  },
  {
   "cell_type": "code",
   "execution_count": 30,
   "metadata": {},
   "outputs": [],
   "source": [
    "df_old_select.to_csv('df_old_select_0528.csv')"
   ]
  },
  {
   "cell_type": "markdown",
   "metadata": {},
   "source": [
    "### 2.2 Split into test and train data according to timestamp"
   ]
  },
  {
   "cell_type": "code",
   "execution_count": 31,
   "metadata": {},
   "outputs": [
    {
     "name": "stderr",
     "output_type": "stream",
     "text": [
      "/usr/local/Cellar/python3/3.6.4_2/Frameworks/Python.framework/Versions/3.6/lib/python3.6/site-packages/ipykernel_launcher.py:4: SettingWithCopyWarning: \n",
      "A value is trying to be set on a copy of a slice from a DataFrame.\n",
      "Try using .loc[row_indexer,col_indexer] = value instead\n",
      "\n",
      "See the caveats in the documentation: http://pandas.pydata.org/pandas-docs/stable/indexing.html#indexing-view-versus-copy\n",
      "  after removing the cwd from sys.path.\n",
      "/usr/local/Cellar/python3/3.6.4_2/Frameworks/Python.framework/Versions/3.6/lib/python3.6/site-packages/ipykernel_launcher.py:5: SettingWithCopyWarning: \n",
      "A value is trying to be set on a copy of a slice from a DataFrame.\n",
      "Try using .loc[row_indexer,col_indexer] = value instead\n",
      "\n",
      "See the caveats in the documentation: http://pandas.pydata.org/pandas-docs/stable/indexing.html#indexing-view-versus-copy\n",
      "  \"\"\"\n"
     ]
    }
   ],
   "source": [
    "df_old_select['issued'] = df_old_select.issued.apply(lambda x: x.split(\"-\")[0])\n",
    "df_test = df_old_select.query(\"issued =='Dec' or issued == 'Nov' or issued == 'Oct'\")\n",
    "df_train = df_old_select.query(\"issued !='Dec' and issued != 'Nov' and issued != 'Oct'\")\n",
    "df_test['flag'] = 0\n",
    "df_train['flag'] = 1\n",
    "df_Curr['flag'] = 2\n",
    "Full_data = pd.concat((df_test, df_train, df_Curr), axis=0, ignore_index=True)"
   ]
  },
  {
   "cell_type": "code",
   "execution_count": 32,
   "metadata": {},
   "outputs": [
    {
     "name": "stdout",
     "output_type": "stream",
     "text": [
      "104 145629\n",
      "102 103 119 145 63 443587\n"
     ]
    }
   ],
   "source": [
    "print(len(Full_data.columns), len(Full_data))\n",
    "print(len(df_Curr.columns), len(df_old.columns), len(listCurr), len(listOld), len(df_Curr), len(df_old))"
   ]
  },
  {
   "cell_type": "markdown",
   "metadata": {},
   "source": [
    "# Grouping variables"
   ]
  },
  {
   "cell_type": "code",
   "execution_count": 33,
   "metadata": {},
   "outputs": [],
   "source": [
    "# for column_name in Full_data.columns.values:\n",
    "#     print (column_name, \":  \", Full_data[column_name].dtype)"
   ]
  },
  {
   "cell_type": "markdown",
   "metadata": {},
   "source": [
    "## 3. Checking with Null"
   ]
  },
  {
   "cell_type": "code",
   "execution_count": 34,
   "metadata": {},
   "outputs": [],
   "source": [
    "columns_list = Full_data.isnull().sum()"
   ]
  },
  {
   "cell_type": "code",
   "execution_count": 35,
   "metadata": {},
   "outputs": [
    {
     "data": {
      "text/plain": [
       "annualincjoint                   137393\n",
       "desc                             145629\n",
       "dtijoint                         137393\n",
       "id                               145566\n",
       "memberid                         145566\n",
       "mthssincelastdelinq               70383\n",
       "mthssincelastmajorderog          103506\n",
       "mthssincelastrecord              115442\n",
       "mthssincerecentbcdlq             110299\n",
       "mthssincerecentrevoldelinq        94983\n",
       "revolbaljoint                    139280\n",
       "secappchargeoffwithin12mths      139280\n",
       "secappcollections12mthsexmed     139280\n",
       "secappearliestcrline             139280\n",
       "secappinqlast6mths               139280\n",
       "secappmortacc                    139280\n",
       "secappmthssincelastmajorderog    142808\n",
       "secappnumrevaccts                139280\n",
       "secappopenacc                    139280\n",
       "secappopenactil                  139280\n",
       "secapprevolutil                  139511\n",
       "dtype: int64"
      ]
     },
     "execution_count": 35,
     "metadata": {},
     "output_type": "execute_result"
    }
   ],
   "source": [
    "columns_list.loc[columns_list > 40000]"
   ]
  },
  {
   "cell_type": "markdown",
   "metadata": {},
   "source": [
    "#### drop null columns"
   ]
  },
  {
   "cell_type": "code",
   "execution_count": 36,
   "metadata": {},
   "outputs": [],
   "source": [
    "# drop null columns\n",
    "Full_data = Full_data.drop('annualincjoint', 1)\n",
    "Full_data = Full_data.drop('desc', 1)\n",
    "Full_data = Full_data.drop('dtijoint', 1)\n",
    "Full_data = Full_data.drop('id', 1)\n",
    "Full_data = Full_data.drop('memberid', 1)\n",
    "Full_data = Full_data.drop('mthssincelastmajorderog', 1)\n",
    "Full_data = Full_data.drop('mthssincelastrecord', 1)\n",
    "Full_data = Full_data.drop('mthssincerecentbcdlq', 1)\n",
    "Full_data = Full_data.drop('revolbaljoint', 1)\n",
    "Full_data = Full_data.drop('secappchargeoffwithin12mths', 1)\n",
    "Full_data = Full_data.drop('secappcollections12mthsexmed', 1)\n",
    "Full_data = Full_data.drop('secappearliestcrline', 1)\n",
    "Full_data = Full_data.drop('secappinqlast6mths', 1)\n",
    "Full_data = Full_data.drop('secappmortacc', 1)\n",
    "Full_data = Full_data.drop('secappopenactil', 1)\n",
    "Full_data = Full_data.drop('secapprevolutil', 1)\n",
    "Full_data = Full_data.drop('secappmthssincelastmajorderog', 1)\n",
    "Full_data = Full_data.drop('secappnumrevaccts', 1)\n",
    "Full_data = Full_data.drop('secappopenacc', 1)"
   ]
  },
  {
   "cell_type": "code",
   "execution_count": 37,
   "metadata": {},
   "outputs": [
    {
     "data": {
      "text/plain": [
       "85"
      ]
     },
     "execution_count": 37,
     "metadata": {},
     "output_type": "execute_result"
    }
   ],
   "source": [
    "len(Full_data.columns)"
   ]
  },
  {
   "cell_type": "markdown",
   "metadata": {},
   "source": [
    "## 4. Feature Engineering"
   ]
  },
  {
   "cell_type": "markdown",
   "metadata": {},
   "source": [
    "### 4.1 Grouping variables into continuous and categorical"
   ]
  },
  {
   "cell_type": "code",
   "execution_count": 38,
   "metadata": {},
   "outputs": [
    {
     "name": "stdout",
     "output_type": "stream",
     "text": [
      "['accnowdelinq', 'accopenpast24mths', 'allutil', 'annualinc', 'avgcurbal', 'bcopentobuy', 'bcutil', 'chargeoffwithin12mths', 'collections12mthsexmed', 'delinq2yrs', 'delinqamnt', 'dti', 'flag', 'fundedamnt', 'ilutil', 'inqfi', 'inqlast12m', 'inqlast6mths', 'installment', 'loanamnt', 'loanstatus', 'maxbalbc', 'mortacc', 'mosinoldilacct', 'mosinoldrevtlop', 'mosinrcntrevtlop', 'mosinrcnttl', 'mthssincelastdelinq', 'mthssincercntil', 'mthssincerecentbc', 'mthssincerecentinq', 'mthssincerecentrevoldelinq', 'numacctsever120pd', 'numactvbctl', 'numactvrevtl', 'numbcsats', 'numbctl', 'numiltl', 'numoprevtl', 'numrevaccts', 'numrevtlbalgt0', 'numsats', 'numtl120dpd2m', 'numtl30dpd', 'numtl90gdpd24m', 'numtloppast12m', 'openacc', 'openacc6m', 'openactil', 'openil12m', 'openil24m', 'openrv12m', 'openrv24m', 'pcttlnvrdlq', 'percentbcgt75', 'pubrec', 'pubrecbankruptcies', 'revolbal', 'taxliens', 'totalacc', 'totalbalexmort', 'totalbalil', 'totalbclimit', 'totalcutl', 'totalilhighcreditlimit', 'totalrevhilim', 'totcollamt', 'totcurbal', 'tothicredlim']\n",
      "['addrstate', 'applicationtype', 'disbursementmethod', 'earliestcrline', 'emplength', 'emptitle', 'grade', 'homeownership', 'initialliststatus', 'intrate', 'issued', 'lastcreditpulld', 'purpose', 'revolutil', 'subgrade', 'term']\n"
     ]
    }
   ],
   "source": [
    "# Value grouping into continuous and categorical\n",
    "Con_cols = [i for i in Full_data.columns if (Full_data.dtypes[i] =='float64' or Full_data.dtypes[i] == 'int64')]\n",
    "Cat_cols = [i for i in Full_data.columns if (i not in Con_cols) & (i !='id')]\n",
    "len(Con_cols), len(Cat_cols)\n",
    "print(Con_cols)\n",
    "print(Cat_cols)"
   ]
  },
  {
   "cell_type": "markdown",
   "metadata": {},
   "source": [
    "### 4.2 target variable distribution"
   ]
  },
  {
   "cell_type": "code",
   "execution_count": 39,
   "metadata": {},
   "outputs": [
    {
     "data": {
      "text/plain": [
       "0.0    94347\n",
       "1.0    51219\n",
       "Name: loanstatus, dtype: int64"
      ]
     },
     "execution_count": 39,
     "metadata": {},
     "output_type": "execute_result"
    }
   ],
   "source": [
    "Full_data.loanstatus.value_counts()"
   ]
  },
  {
   "cell_type": "code",
   "execution_count": 40,
   "metadata": {},
   "outputs": [
    {
     "name": "stdout",
     "output_type": "stream",
     "text": [
      "85 145629\n",
      "102 103 119 145 63 443587\n"
     ]
    }
   ],
   "source": [
    "print(len(Full_data.columns), len(Full_data))\n",
    "print(len(df_Curr.columns), len(df_old.columns), len(listCurr), len(listOld), len(df_Curr), len(df_old))"
   ]
  },
  {
   "cell_type": "markdown",
   "metadata": {},
   "source": [
    "### 4.3 Feature engineering"
   ]
  },
  {
   "cell_type": "markdown",
   "metadata": {},
   "source": [
    "#### 4.3.1 Grade, subgrade"
   ]
  },
  {
   "cell_type": "code",
   "execution_count": 41,
   "metadata": {},
   "outputs": [],
   "source": [
    "# grade\n",
    "grade_dic = {\"A\": 1, \"B\": 2, \"C\": 3, \"D\": 4, \"E\":5, \"F\":6, \"G\":7} \n",
    "Full_data.grade = Full_data.grade.map(grade_dic)\n",
    "# subgrade\n",
    "Full_data.subgrade = Full_data.subgrade.apply(lambda x: (grade_dic[x[0]]) + int(x[1])/10)"
   ]
  },
  {
   "cell_type": "markdown",
   "metadata": {},
   "source": [
    "#### 4.3.2 Addrstate"
   ]
  },
  {
   "cell_type": "code",
   "execution_count": 42,
   "metadata": {},
   "outputs": [],
   "source": [
    "# addrstate\n",
    "addrstate_freq = Full_data.groupby(\"addrstate\").size().reset_index()\n",
    "addrstate_freq.columns = [\"addrstate\", \"addrstate_freq\"]\n",
    "Full_data = pd.merge(Full_data, addrstate_freq, how = \"left\", on = \"addrstate\")\n",
    "# drop addrstate\n",
    "# Full_data.drop('addrstate', axis =1)"
   ]
  },
  {
   "cell_type": "markdown",
   "metadata": {},
   "source": [
    "#### 4.3.3 emptitle"
   ]
  },
  {
   "cell_type": "code",
   "execution_count": 43,
   "metadata": {},
   "outputs": [],
   "source": [
    "#emptitle\n",
    "emptitle_freq = Full_data.groupby(\"emptitle\").size().reset_index()\n",
    "emptitle_freq.columns = [\"emptitle\", \"emptitle_freq\"]\n",
    "Full_data = pd.merge(Full_data, emptitle_freq, how = \"left\", on = \"emptitle\")\n",
    "Full_data = Full_data.drop('emptitle', axis = 1)"
   ]
  },
  {
   "cell_type": "markdown",
   "metadata": {},
   "source": [
    "#### 4.3.4 null -> 'n/a' --> nan"
   ]
  },
  {
   "cell_type": "code",
   "execution_count": 44,
   "metadata": {},
   "outputs": [],
   "source": [
    "# all data\n",
    "Full_data.replace('n/a', np.nan, inplace = True)"
   ]
  },
  {
   "cell_type": "markdown",
   "metadata": {},
   "source": [
    "#### 4.3.5 intrate"
   ]
  },
  {
   "cell_type": "code",
   "execution_count": 45,
   "metadata": {},
   "outputs": [],
   "source": [
    "# intrate\n",
    "Full_data.intrate = pd.Series(Full_data.intrate).str.replace('%', '').astype(float)"
   ]
  },
  {
   "cell_type": "markdown",
   "metadata": {},
   "source": [
    "#### 4.3.6 revoluntil"
   ]
  },
  {
   "cell_type": "code",
   "execution_count": 46,
   "metadata": {},
   "outputs": [],
   "source": [
    "# revoluntil\n",
    "Full_data.revolutil = pd.Series(Full_data.revolutil).str.replace('%', '').astype(float)"
   ]
  },
  {
   "cell_type": "markdown",
   "metadata": {},
   "source": [
    "#### 4.3.7 emplength"
   ]
  },
  {
   "cell_type": "code",
   "execution_count": 47,
   "metadata": {},
   "outputs": [],
   "source": [
    "Full_data['emplength'].replace(to_replace='[^0-9]+', value='', inplace=True, regex=True)\n",
    "Full_data.emplength.fillna(value=0,inplace=True)\n",
    "Full_data['emplength'] = Full_data['emplength'].astype(int)\n",
    "Full_data['emplength'] = Full_data['emplength'].apply(lambda x: x/12 if x>10 else x)"
   ]
  },
  {
   "cell_type": "code",
   "execution_count": 48,
   "metadata": {},
   "outputs": [],
   "source": [
    "# Full_data['emplength'].value_counts()"
   ]
  },
  {
   "cell_type": "markdown",
   "metadata": {},
   "source": [
    "#### 4.3.8 drop lastcreditpulld (due to time series)"
   ]
  },
  {
   "cell_type": "code",
   "execution_count": 49,
   "metadata": {},
   "outputs": [],
   "source": [
    "Full_data = Full_data.drop('lastcreditpulld', axis = 1)"
   ]
  },
  {
   "cell_type": "markdown",
   "metadata": {},
   "source": [
    "#### 4.3.9 'term'"
   ]
  },
  {
   "cell_type": "code",
   "execution_count": 50,
   "metadata": {},
   "outputs": [
    {
     "data": {
      "text/plain": [
       "36    105036\n",
       "60     40593\n",
       "Name: term, dtype: int64"
      ]
     },
     "execution_count": 50,
     "metadata": {},
     "output_type": "execute_result"
    }
   ],
   "source": [
    "Full_data.term.replace(to_replace='[^0-9]+', value='', inplace=True, regex=True)\n",
    "Full_data['term'] = Full_data.term.astype(int)\n",
    "Full_data.term.value_counts()"
   ]
  },
  {
   "cell_type": "markdown",
   "metadata": {},
   "source": [
    "#### 4.3.10 'earliestcrline'"
   ]
  },
  {
   "cell_type": "code",
   "execution_count": 51,
   "metadata": {},
   "outputs": [],
   "source": [
    "Full_data.earliestcrline.replace(to_replace='[^0-9]+', value='', inplace=True, regex=True)\n",
    "Full_data['earliestcrline'] = Full_data['earliestcrline'].apply(lambda x: x[:4])\n",
    "Full_data['earliestcrline'] = Full_data['earliestcrline'].astype('int')"
   ]
  },
  {
   "cell_type": "markdown",
   "metadata": {},
   "source": [
    "#### 4.3.11 'applicationtype'"
   ]
  },
  {
   "cell_type": "code",
   "execution_count": 52,
   "metadata": {},
   "outputs": [],
   "source": [
    "Full_data['applicationtype'] = Full_data['applicationtype'].apply(lambda x: 'Individual' \\\n",
    "                        if x == 'INDIVIDUAL' else 'Joint App' if x == 'JOINT' else x)"
   ]
  },
  {
   "cell_type": "code",
   "execution_count": 53,
   "metadata": {},
   "outputs": [
    {
     "data": {
      "text/plain": [
       "Individual    137393\n",
       "Joint App       8236\n",
       "Name: applicationtype, dtype: int64"
      ]
     },
     "execution_count": 53,
     "metadata": {},
     "output_type": "execute_result"
    }
   ],
   "source": [
    "Full_data.applicationtype.value_counts()"
   ]
  },
  {
   "cell_type": "markdown",
   "metadata": {},
   "source": [
    "#### 4.3.11 categorical variables - one-hot encoding"
   ]
  },
  {
   "cell_type": "code",
   "execution_count": 54,
   "metadata": {},
   "outputs": [],
   "source": [
    "dummy = ['applicationtype', \n",
    "'disbursementmethod',\n",
    "'earliestcrline',\n",
    "'homeownership', \n",
    "'initialliststatus',  \n",
    "'issued', \n",
    "'purpose', \n",
    "'term', \n",
    "'addrstate']"
   ]
  },
  {
   "cell_type": "code",
   "execution_count": 55,
   "metadata": {},
   "outputs": [],
   "source": [
    "test_Full_data = Full_data"
   ]
  },
  {
   "cell_type": "code",
   "execution_count": 56,
   "metadata": {},
   "outputs": [
    {
     "name": "stdout",
     "output_type": "stream",
     "text": [
      "One-hot encoding  applicationtype\n",
      "One-hot encoding  disbursementmethod\n",
      "One-hot encoding  earliestcrline\n",
      "One-hot encoding  homeownership\n",
      "One-hot encoding  initialliststatus\n",
      "One-hot encoding  issued\n",
      "One-hot encoding  purpose\n",
      "One-hot encoding  term\n",
      "One-hot encoding  addrstate\n"
     ]
    }
   ],
   "source": [
    "for col in dummy:\n",
    "    print (\"One-hot encoding  %s\" % (col))\n",
    "    one_hot = pd.get_dummies(test_Full_data[col])\n",
    "    test_Full_data = pd.concat([test_Full_data,one_hot], axis=1)\n",
    "    test_Full_data = test_Full_data.drop(col, axis =1)"
   ]
  },
  {
   "cell_type": "code",
   "execution_count": 57,
   "metadata": {},
   "outputs": [
    {
     "data": {
      "text/plain": [
       "226"
      ]
     },
     "execution_count": 57,
     "metadata": {},
     "output_type": "execute_result"
    }
   ],
   "source": [
    "len(test_Full_data.columns)"
   ]
  },
  {
   "cell_type": "markdown",
   "metadata": {},
   "source": [
    "#### 4.3.10 Fill NA with -1"
   ]
  },
  {
   "cell_type": "code",
   "execution_count": 58,
   "metadata": {},
   "outputs": [],
   "source": [
    "# Full_data = Full_data.fillna(Full_data.median())\n",
    "test_Full_data = test_Full_data.fillna(-1)"
   ]
  },
  {
   "cell_type": "markdown",
   "metadata": {},
   "source": [
    "# 5. Train & Test Split"
   ]
  },
  {
   "cell_type": "code",
   "execution_count": 163,
   "metadata": {},
   "outputs": [],
   "source": [
    "train = test_Full_data.loc[Full_data['flag'] == 1]\n",
    "valid = test_Full_data.loc[Full_data['flag'] == 0]\n",
    "test_predict = test_Full_data.loc[Full_data['flag'] == 2]"
   ]
  },
  {
   "cell_type": "code",
   "execution_count": 60,
   "metadata": {},
   "outputs": [
    {
     "data": {
      "text/plain": [
       "(226, 226)"
      ]
     },
     "execution_count": 60,
     "metadata": {},
     "output_type": "execute_result"
    }
   ],
   "source": [
    "len(train.columns),len(test_Full_data.columns)"
   ]
  },
  {
   "cell_type": "code",
   "execution_count": 61,
   "metadata": {},
   "outputs": [],
   "source": [
    "X_train = train.drop(\"loanstatus\", axis=1)\n",
    "Y_train = train[\"loanstatus\"]\n",
    "X_valid = valid.drop(\"loanstatus\", axis=1)\n",
    "Y_valid = valid[\"loanstatus\"]\n",
    "X_test_predict = test_predict.drop(\"loanstatus\", axis=1)"
   ]
  },
  {
   "cell_type": "code",
   "execution_count": 62,
   "metadata": {},
   "outputs": [
    {
     "data": {
      "text/plain": [
       "(63, 137227, 8339)"
      ]
     },
     "execution_count": 62,
     "metadata": {},
     "output_type": "execute_result"
    }
   ],
   "source": [
    "len(test_predict), len(train), len(valid)"
   ]
  },
  {
   "cell_type": "code",
   "execution_count": 63,
   "metadata": {},
   "outputs": [
    {
     "name": "stdout",
     "output_type": "stream",
     "text": [
      "137227 225 8339\n"
     ]
    }
   ],
   "source": [
    "print(len(X_train), len(X_train.columns), len(X_valid))"
   ]
  },
  {
   "cell_type": "markdown",
   "metadata": {},
   "source": [
    "#### Result:   train set: 137227,   test set: 8339,    225 variables"
   ]
  },
  {
   "cell_type": "markdown",
   "metadata": {},
   "source": [
    "# 6. Model Selection & Tuning"
   ]
  },
  {
   "cell_type": "markdown",
   "metadata": {},
   "source": [
    "### 6.1 Random Forest Classifier"
   ]
  },
  {
   "cell_type": "code",
   "execution_count": 64,
   "metadata": {},
   "outputs": [],
   "source": [
    "# from sklearn.ensemble import RandomForestClassifier\n",
    "# from sklearn import metrics\n",
    "# RF = RandomForestClassifier()#linearregression\n",
    "# RF = RF.fit(X_train, Y_train)\n",
    "# y_pred = RF.predict(X_test)"
   ]
  },
  {
   "cell_type": "code",
   "execution_count": 65,
   "metadata": {},
   "outputs": [],
   "source": [
    "# print (metrics.classification_report(Y_test, y_pred))# accuracy"
   ]
  },
  {
   "cell_type": "markdown",
   "metadata": {},
   "source": [
    "### 6.2 Gradient Boosting Tree Classifier"
   ]
  },
  {
   "cell_type": "code",
   "execution_count": 66,
   "metadata": {},
   "outputs": [
    {
     "data": {
      "text/plain": [
       "GradientBoostingClassifier(criterion='friedman_mse', init=None,\n",
       "              learning_rate=0.1, loss='deviance', max_depth=5,\n",
       "              max_features=None, max_leaf_nodes=None,\n",
       "              min_impurity_decrease=0.0, min_impurity_split=None,\n",
       "              min_samples_leaf=1, min_samples_split=2,\n",
       "              min_weight_fraction_leaf=0.0, n_estimators=500,\n",
       "              presort='auto', random_state=None, subsample=1.0, verbose=0,\n",
       "              warm_start=False)"
      ]
     },
     "execution_count": 66,
     "metadata": {},
     "output_type": "execute_result"
    }
   ],
   "source": [
    "from sklearn.ensemble import GradientBoostingClassifier, GradientBoostingRegressor\n",
    "est2 = GradientBoostingClassifier(n_estimators=500, max_depth=5)\n",
    "est2.fit(X_train, Y_train)"
   ]
  },
  {
   "cell_type": "code",
   "execution_count": 67,
   "metadata": {},
   "outputs": [
    {
     "data": {
      "text/plain": [
       "0.0    92345\n",
       "1.0    44882\n",
       "Name: loanstatus, dtype: int64"
      ]
     },
     "execution_count": 67,
     "metadata": {},
     "output_type": "execute_result"
    }
   ],
   "source": [
    "Y_train.value_counts()"
   ]
  },
  {
   "cell_type": "code",
   "execution_count": 68,
   "metadata": {},
   "outputs": [
    {
     "data": {
      "text/plain": [
       "1.0    6337\n",
       "0.0    2002\n",
       "Name: loanstatus, dtype: int64"
      ]
     },
     "execution_count": 68,
     "metadata": {},
     "output_type": "execute_result"
    }
   ],
   "source": [
    "Y_valid.value_counts()"
   ]
  },
  {
   "cell_type": "code",
   "execution_count": 72,
   "metadata": {},
   "outputs": [
    {
     "name": "stdout",
     "output_type": "stream",
     "text": [
      "             precision    recall  f1-score   support\n",
      "\n",
      "        0.0       0.50      0.75      0.60      2002\n",
      "        1.0       0.91      0.76      0.83      6337\n",
      "\n",
      "avg / total       0.81      0.76      0.77      8339\n",
      "\n"
     ]
    }
   ],
   "source": [
    "Y_valid_pred = est2.predict(X_valid)\n",
    "from sklearn import metrics\n",
    "print (metrics.classification_report(Y_valid, Y_valid_pred))"
   ]
  },
  {
   "cell_type": "code",
   "execution_count": 73,
   "metadata": {},
   "outputs": [],
   "source": [
    "pickle.dump(est2, open('gbm_model.pkl', \"wb\"))"
   ]
  },
  {
   "cell_type": "markdown",
   "metadata": {},
   "source": [
    "#### 6.2.1 Gradient Boosting Tree - ROC Curve"
   ]
  },
  {
   "cell_type": "code",
   "execution_count": 74,
   "metadata": {},
   "outputs": [],
   "source": [
    "import seaborn as sns"
   ]
  },
  {
   "cell_type": "code",
   "execution_count": 75,
   "metadata": {},
   "outputs": [],
   "source": [
    "from sklearn import linear_model, datasets\n",
    "import pylab as pl\n",
    "def draw_ROC(model, dtrain, dvalid, y_train, y_valid):\n",
    "    probas_ = model.predict(dvalid)\n",
    "    probas_1 = model.predict(dtrain)\n",
    "    fpr, tpr, thresholds = roc_curve(y_valid, probas_)\n",
    "    fpr_1, tpr_1, thresholds_1 = roc_curve(y_train, probas_1)\n",
    "    roc_auc = auc(fpr, tpr)\n",
    "    roc_auc_1 = auc(fpr_1, tpr_1)\n",
    "    print (\"Area under the ROC curve - test: %f\" % roc_auc)\n",
    "    print (\"Area under the ROC curve - train: %f\" % roc_auc_1)\n",
    "    # Plot ROC curve\n",
    "    plt.figure(figsize=(8,8))\n",
    "    plt.plot(fpr, tpr, label='ROC curve - test(AUC = %0.2f)' % roc_auc, color='r')\n",
    "    plt.plot(fpr_1, tpr_1, label='ROC curve - train (AUC = %0.2f)' % roc_auc_1, color='b')\n",
    "    plt.plot([0, 1], [0, 1], 'k--')\n",
    "    plt.xlim([0.0, 1.0])\n",
    "    plt.ylim([0.0, 1.0])\n",
    "    plt.xlabel('False Positive Rate')\n",
    "    plt.ylabel('True Positive Rate')\n",
    "    plt.title('ROC for lead score model')\n",
    "    plt.legend(loc=\"lower right\")\n",
    "    plt.show()\n",
    "    sns.despine()"
   ]
  },
  {
   "cell_type": "code",
   "execution_count": 76,
   "metadata": {},
   "outputs": [
    {
     "name": "stdout",
     "output_type": "stream",
     "text": [
      "Area under the ROC curve - test: 0.757311\n",
      "Area under the ROC curve - train: 0.904662\n"
     ]
    },
    {
     "data": {
      "image/png": "[encoded data removed]",
      "text/plain": [
       "<matplotlib.figure.Figure at 0x1171a6320>"
      ]
     },
     "metadata": {},
     "output_type": "display_data"
    },
    {
     "data": {
      "text/plain": [
       "<matplotlib.figure.Figure at 0x10a543a90>"
      ]
     },
     "metadata": {},
     "output_type": "display_data"
    }
   ],
   "source": [
    "from sklearn.metrics import roc_curve, auc\n",
    "draw_ROC(est2, X_train, X_valid, Y_train, Y_valid)"
   ]
  },
  {
   "cell_type": "markdown",
   "metadata": {},
   "source": [
    "#### 6.2.2 Gradient Boosting Tree - Prediction Distribution"
   ]
  },
  {
   "cell_type": "code",
   "execution_count": 79,
   "metadata": {},
   "outputs": [
    {
     "name": "stdout",
     "output_type": "stream",
     "text": [
      "0.999988961597378 1.1038402621954546e-05 0.5\n"
     ]
    }
   ],
   "source": [
    "Y_pred = est2.predict_proba(X_valid)\n",
    "print (Y_pred.max(), Y_pred.min(), Y_pred.mean())"
   ]
  },
  {
   "cell_type": "code",
   "execution_count": 80,
   "metadata": {},
   "outputs": [
    {
     "data": {
      "image/png": "[encoded data removed]",
      "text/plain": [
       "<matplotlib.figure.Figure at 0x10a53a518>"
      ]
     },
     "metadata": {},
     "output_type": "display_data"
    }
   ],
   "source": [
    "plt.hist(Y_pred[:,0], label = 'Probability prediction')\n",
    "plt.legend()\n",
    "plt.title('Gradient Boosting Prediction Distribution')\n",
    "plt.show()"
   ]
  },
  {
   "cell_type": "markdown",
   "metadata": {},
   "source": [
    "## 6.3 XGBoost Classifier"
   ]
  },
  {
   "cell_type": "markdown",
   "metadata": {},
   "source": [
    "#### 6.3.1 XGboost Modeling"
   ]
  },
  {
   "cell_type": "code",
   "execution_count": 81,
   "metadata": {},
   "outputs": [],
   "source": [
    "import xgboost as xgb"
   ]
  },
  {
   "cell_type": "code",
   "execution_count": 82,
   "metadata": {},
   "outputs": [],
   "source": [
    "dtrain = xgb.DMatrix(X_train, Y_train, missing = np.NAN)\n",
    "dvalid = xgb.DMatrix(X_valid, Y_valid, missing = np.NAN)"
   ]
  },
  {
   "cell_type": "code",
   "execution_count": 83,
   "metadata": {},
   "outputs": [],
   "source": [
    "params = {\"objective\": \"binary:logistic\", \n",
    "          \"booster\" : \"gbtree\", \n",
    "          \"eta\": 0.05, \n",
    "          \"max_depth\": 6, \n",
    "          \"subsample\": 0.632, \n",
    "          \"colsample_bytree\": 0.7,\n",
    "          #\"colsample_bylevel\": 0.6,\n",
    "          \"silent\": 1, \n",
    "          \"seed\": 1441, \n",
    "          \"eval_metric\": \"auc\",\n",
    "          #\"gamma\": 1, \n",
    "          \"min_child_weight\": 5} # 74453"
   ]
  },
  {
   "cell_type": "code",
   "execution_count": 84,
   "metadata": {},
   "outputs": [
    {
     "name": "stdout",
     "output_type": "stream",
     "text": [
      "[0]\ttrain-auc:0.891204\teval-auc:0.864688\n",
      "Multiple eval metrics have been passed: 'eval-auc' will be used for early stopping.\n",
      "\n",
      "Will train until eval-auc hasn't improved in 50 rounds.\n",
      "[1]\ttrain-auc:0.885341\teval-auc:0.819533\n",
      "[2]\ttrain-auc:0.872246\teval-auc:0.793173\n",
      "[3]\ttrain-auc:0.891888\teval-auc:0.827313\n",
      "[4]\ttrain-auc:0.898375\teval-auc:0.843505\n",
      "[5]\ttrain-auc:0.894549\teval-auc:0.829777\n",
      "[6]\ttrain-auc:0.890844\teval-auc:0.820615\n",
      "[7]\ttrain-auc:0.88738\teval-auc:0.812423\n",
      "[8]\ttrain-auc:0.894307\teval-auc:0.825853\n",
      "[9]\ttrain-auc:0.899093\teval-auc:0.837139\n",
      "[10]\ttrain-auc:0.901804\teval-auc:0.8435\n",
      "[11]\ttrain-auc:0.903781\teval-auc:0.847473\n",
      "[12]\ttrain-auc:0.905142\teval-auc:0.852687\n",
      "[13]\ttrain-auc:0.906086\teval-auc:0.856773\n",
      "[14]\ttrain-auc:0.905942\teval-auc:0.851661\n",
      "[15]\ttrain-auc:0.907756\teval-auc:0.857684\n",
      "[16]\ttrain-auc:0.908218\teval-auc:0.860905\n",
      "[17]\ttrain-auc:0.908651\teval-auc:0.86321\n",
      "[18]\ttrain-auc:0.909222\teval-auc:0.865322\n",
      "[19]\ttrain-auc:0.909344\teval-auc:0.862282\n",
      "[20]\ttrain-auc:0.909523\teval-auc:0.859409\n",
      "[21]\ttrain-auc:0.910279\teval-auc:0.862439\n",
      "[22]\ttrain-auc:0.910409\teval-auc:0.860385\n",
      "[23]\ttrain-auc:0.911008\teval-auc:0.863439\n",
      "[24]\ttrain-auc:0.91143\teval-auc:0.864629\n",
      "[25]\ttrain-auc:0.91183\teval-auc:0.865291\n",
      "[26]\ttrain-auc:0.911977\teval-auc:0.86617\n",
      "[27]\ttrain-auc:0.912339\teval-auc:0.867043\n",
      "[28]\ttrain-auc:0.912598\teval-auc:0.867336\n",
      "[29]\ttrain-auc:0.912766\teval-auc:0.868033\n",
      "[30]\ttrain-auc:0.913011\teval-auc:0.868345\n",
      "[31]\ttrain-auc:0.913364\teval-auc:0.867877\n",
      "[32]\ttrain-auc:0.913715\teval-auc:0.867904\n",
      "[33]\ttrain-auc:0.914033\teval-auc:0.867909\n",
      "[34]\ttrain-auc:0.914442\teval-auc:0.868257\n",
      "[35]\ttrain-auc:0.914755\teval-auc:0.86889\n",
      "[36]\ttrain-auc:0.914889\teval-auc:0.868867\n",
      "[37]\ttrain-auc:0.915033\teval-auc:0.869171\n",
      "[38]\ttrain-auc:0.915616\teval-auc:0.869566\n",
      "[39]\ttrain-auc:0.915912\teval-auc:0.869341\n",
      "[40]\ttrain-auc:0.916291\teval-auc:0.869517\n",
      "[41]\ttrain-auc:0.916784\teval-auc:0.869733\n",
      "[42]\ttrain-auc:0.917189\teval-auc:0.869971\n",
      "[43]\ttrain-auc:0.917551\teval-auc:0.870302\n",
      "[44]\ttrain-auc:0.91779\teval-auc:0.870271\n",
      "[45]\ttrain-auc:0.918172\teval-auc:0.870336\n",
      "[46]\ttrain-auc:0.918407\teval-auc:0.870524\n",
      "[47]\ttrain-auc:0.918672\teval-auc:0.870705\n",
      "[48]\ttrain-auc:0.918899\teval-auc:0.870627\n",
      "[49]\ttrain-auc:0.919155\teval-auc:0.871066\n",
      "[50]\ttrain-auc:0.919256\teval-auc:0.871128\n",
      "[51]\ttrain-auc:0.919635\teval-auc:0.87086\n",
      "[52]\ttrain-auc:0.919981\teval-auc:0.87081\n",
      "[53]\ttrain-auc:0.920213\teval-auc:0.871037\n",
      "[54]\ttrain-auc:0.92046\teval-auc:0.870972\n",
      "[55]\ttrain-auc:0.920833\teval-auc:0.870872\n",
      "[56]\ttrain-auc:0.920993\teval-auc:0.870853\n",
      "[57]\ttrain-auc:0.921208\teval-auc:0.871102\n",
      "[58]\ttrain-auc:0.921431\teval-auc:0.870982\n",
      "[59]\ttrain-auc:0.921757\teval-auc:0.871086\n",
      "[60]\ttrain-auc:0.922188\teval-auc:0.871621\n",
      "[61]\ttrain-auc:0.922477\teval-auc:0.871627\n",
      "[62]\ttrain-auc:0.922808\teval-auc:0.871652\n",
      "[63]\ttrain-auc:0.923069\teval-auc:0.871724\n",
      "[64]\ttrain-auc:0.923203\teval-auc:0.871861\n",
      "[65]\ttrain-auc:0.92332\teval-auc:0.871955\n",
      "[66]\ttrain-auc:0.923564\teval-auc:0.872045\n",
      "[67]\ttrain-auc:0.923771\teval-auc:0.872402\n",
      "[68]\ttrain-auc:0.923989\teval-auc:0.87262\n",
      "[69]\ttrain-auc:0.924275\teval-auc:0.872568\n",
      "[70]\ttrain-auc:0.924459\teval-auc:0.872537\n",
      "[71]\ttrain-auc:0.924709\teval-auc:0.872392\n",
      "[72]\ttrain-auc:0.924912\teval-auc:0.872462\n",
      "[73]\ttrain-auc:0.925139\teval-auc:0.872732\n",
      "[74]\ttrain-auc:0.925322\teval-auc:0.872856\n",
      "[75]\ttrain-auc:0.925571\teval-auc:0.873202\n",
      "[76]\ttrain-auc:0.925713\teval-auc:0.873175\n",
      "[77]\ttrain-auc:0.926246\teval-auc:0.873301\n",
      "[78]\ttrain-auc:0.92669\teval-auc:0.873572\n",
      "[79]\ttrain-auc:0.926916\teval-auc:0.873671\n",
      "[80]\ttrain-auc:0.927078\teval-auc:0.873802\n",
      "[81]\ttrain-auc:0.927298\teval-auc:0.873892\n",
      "[82]\ttrain-auc:0.927645\teval-auc:0.873968\n",
      "[83]\ttrain-auc:0.927995\teval-auc:0.87406\n",
      "[84]\ttrain-auc:0.928274\teval-auc:0.873857\n",
      "[85]\ttrain-auc:0.928654\teval-auc:0.873932\n",
      "[86]\ttrain-auc:0.928834\teval-auc:0.874143\n",
      "[87]\ttrain-auc:0.929038\teval-auc:0.874039\n",
      "[88]\ttrain-auc:0.929148\teval-auc:0.874055\n",
      "[89]\ttrain-auc:0.929349\teval-auc:0.874065\n",
      "[90]\ttrain-auc:0.929533\teval-auc:0.873986\n",
      "[91]\ttrain-auc:0.929735\teval-auc:0.874298\n",
      "[92]\ttrain-auc:0.930046\teval-auc:0.874345\n",
      "[93]\ttrain-auc:0.93038\teval-auc:0.874519\n",
      "[94]\ttrain-auc:0.930745\teval-auc:0.874695\n",
      "[95]\ttrain-auc:0.931113\teval-auc:0.874944\n",
      "[96]\ttrain-auc:0.931366\teval-auc:0.875068\n",
      "[97]\ttrain-auc:0.931669\teval-auc:0.87517\n",
      "[98]\ttrain-auc:0.932055\teval-auc:0.875187\n",
      "[99]\ttrain-auc:0.932371\teval-auc:0.875212\n",
      "[100]\ttrain-auc:0.932707\teval-auc:0.875079\n",
      "[101]\ttrain-auc:0.933079\teval-auc:0.87494\n",
      "[102]\ttrain-auc:0.933393\teval-auc:0.875175\n",
      "[103]\ttrain-auc:0.933541\teval-auc:0.874958\n",
      "[104]\ttrain-auc:0.933881\teval-auc:0.87506\n",
      "[105]\ttrain-auc:0.934311\teval-auc:0.875233\n",
      "[106]\ttrain-auc:0.934685\teval-auc:0.875781\n",
      "[107]\ttrain-auc:0.934854\teval-auc:0.875742\n",
      "[108]\ttrain-auc:0.935096\teval-auc:0.875802\n",
      "[109]\ttrain-auc:0.935331\teval-auc:0.875894\n",
      "[110]\ttrain-auc:0.935645\teval-auc:0.876157\n",
      "[111]\ttrain-auc:0.935924\teval-auc:0.876102\n",
      "[112]\ttrain-auc:0.936157\teval-auc:0.875888\n",
      "[113]\ttrain-auc:0.936529\teval-auc:0.87596\n",
      "[114]\ttrain-auc:0.93688\teval-auc:0.876032\n",
      "[115]\ttrain-auc:0.937091\teval-auc:0.876072\n",
      "[116]\ttrain-auc:0.937233\teval-auc:0.876082\n",
      "[117]\ttrain-auc:0.937417\teval-auc:0.875922\n",
      "[118]\ttrain-auc:0.937815\teval-auc:0.876236\n",
      "[119]\ttrain-auc:0.938134\teval-auc:0.876473\n",
      "[120]\ttrain-auc:0.938339\teval-auc:0.876529\n",
      "[121]\ttrain-auc:0.938472\teval-auc:0.876683\n",
      "[122]\ttrain-auc:0.938715\teval-auc:0.876539\n",
      "[123]\ttrain-auc:0.939017\teval-auc:0.87656\n",
      "[124]\ttrain-auc:0.939194\teval-auc:0.876662\n",
      "[125]\ttrain-auc:0.93935\teval-auc:0.876796\n",
      "[126]\ttrain-auc:0.939702\teval-auc:0.87697\n",
      "[127]\ttrain-auc:0.939986\teval-auc:0.877011\n",
      "[128]\ttrain-auc:0.940152\teval-auc:0.877\n",
      "[129]\ttrain-auc:0.940309\teval-auc:0.877212\n",
      "[130]\ttrain-auc:0.940744\teval-auc:0.877747\n",
      "[131]\ttrain-auc:0.940885\teval-auc:0.877622\n",
      "[132]\ttrain-auc:0.941222\teval-auc:0.877787\n",
      "[133]\ttrain-auc:0.941496\teval-auc:0.877803\n",
      "[134]\ttrain-auc:0.941737\teval-auc:0.877778\n",
      "[135]\ttrain-auc:0.941966\teval-auc:0.878092\n",
      "[136]\ttrain-auc:0.942125\teval-auc:0.878289\n",
      "[137]\ttrain-auc:0.94243\teval-auc:0.878296\n",
      "[138]\ttrain-auc:0.942598\teval-auc:0.878431\n",
      "[139]\ttrain-auc:0.942887\teval-auc:0.878652\n",
      "[140]\ttrain-auc:0.943224\teval-auc:0.878957\n",
      "[141]\ttrain-auc:0.943498\teval-auc:0.878823\n",
      "[142]\ttrain-auc:0.943696\teval-auc:0.878808\n",
      "[143]\ttrain-auc:0.943947\teval-auc:0.878636\n",
      "[144]\ttrain-auc:0.944221\teval-auc:0.878662\n",
      "[145]\ttrain-auc:0.944466\teval-auc:0.878458\n",
      "[146]\ttrain-auc:0.944672\teval-auc:0.878497\n",
      "[147]\ttrain-auc:0.944971\teval-auc:0.878404\n",
      "[148]\ttrain-auc:0.945161\teval-auc:0.878414\n",
      "[149]\ttrain-auc:0.945353\teval-auc:0.878322\n",
      "[150]\ttrain-auc:0.9456\teval-auc:0.878555\n",
      "[151]\ttrain-auc:0.945808\teval-auc:0.878471\n",
      "[152]\ttrain-auc:0.945992\teval-auc:0.878501\n",
      "[153]\ttrain-auc:0.946221\teval-auc:0.87863\n",
      "[154]\ttrain-auc:0.946446\teval-auc:0.878556\n",
      "[155]\ttrain-auc:0.946632\teval-auc:0.878403\n",
      "[156]\ttrain-auc:0.94675\teval-auc:0.878276\n",
      "[157]\ttrain-auc:0.946937\teval-auc:0.878317\n",
      "[158]\ttrain-auc:0.947155\teval-auc:0.878414\n",
      "[159]\ttrain-auc:0.947373\teval-auc:0.87846\n",
      "[160]\ttrain-auc:0.947473\teval-auc:0.878393\n",
      "[161]\ttrain-auc:0.947623\teval-auc:0.878522\n",
      "[162]\ttrain-auc:0.947789\teval-auc:0.878697\n",
      "[163]\ttrain-auc:0.947904\teval-auc:0.878566\n",
      "[164]\ttrain-auc:0.948122\teval-auc:0.878652\n",
      "[165]\ttrain-auc:0.948263\teval-auc:0.878591\n",
      "[166]\ttrain-auc:0.94843\teval-auc:0.878624\n",
      "[167]\ttrain-auc:0.948759\teval-auc:0.878604\n",
      "[168]\ttrain-auc:0.948896\teval-auc:0.878662\n",
      "[169]\ttrain-auc:0.949109\teval-auc:0.878615\n",
      "[170]\ttrain-auc:0.949363\teval-auc:0.878147\n",
      "[171]\ttrain-auc:0.949495\teval-auc:0.878119\n",
      "[172]\ttrain-auc:0.949603\teval-auc:0.878163\n",
      "[173]\ttrain-auc:0.949805\teval-auc:0.87839\n",
      "[174]\ttrain-auc:0.949921\teval-auc:0.878449\n",
      "[175]\ttrain-auc:0.950047\teval-auc:0.878602\n",
      "[176]\ttrain-auc:0.950242\teval-auc:0.878713\n",
      "[177]\ttrain-auc:0.950514\teval-auc:0.878751\n",
      "[178]\ttrain-auc:0.950785\teval-auc:0.878719\n",
      "[179]\ttrain-auc:0.951045\teval-auc:0.87868\n",
      "[180]\ttrain-auc:0.951162\teval-auc:0.878504\n",
      "[181]\ttrain-auc:0.951307\teval-auc:0.878499\n",
      "[182]\ttrain-auc:0.951477\teval-auc:0.878414\n",
      "[183]\ttrain-auc:0.951596\teval-auc:0.878486\n",
      "[184]\ttrain-auc:0.951755\teval-auc:0.878357\n",
      "[185]\ttrain-auc:0.951907\teval-auc:0.87846\n",
      "[186]\ttrain-auc:0.952168\teval-auc:0.87844\n",
      "[187]\ttrain-auc:0.952352\teval-auc:0.878484\n",
      "[188]\ttrain-auc:0.95259\teval-auc:0.878406\n",
      "[189]\ttrain-auc:0.952748\teval-auc:0.878498\n",
      "[190]\ttrain-auc:0.952903\teval-auc:0.8783\n"
     ]
    },
    {
     "name": "stdout",
     "output_type": "stream",
     "text": [
      "Stopping. Best iteration:\n",
      "[140]\ttrain-auc:0.943224\teval-auc:0.878957\n",
      "\n"
     ]
    }
   ],
   "source": [
    "watchlist = [(dtrain, 'train'), (dvalid, 'eval')]\n",
    "num_boost_round = 1500\n",
    "gbm = xgb.train(params, dtrain, num_boost_round, evals=watchlist,\\\n",
    "  early_stopping_rounds= 50)"
   ]
  },
  {
   "cell_type": "code",
   "execution_count": 85,
   "metadata": {},
   "outputs": [],
   "source": [
    "pickle.dump(gbm, open('model.pkl', \"wb\"))"
   ]
  },
  {
   "cell_type": "markdown",
   "metadata": {},
   "source": [
    "#### 6.3.2 XGboost - ROC Curve"
   ]
  },
  {
   "cell_type": "code",
   "execution_count": 86,
   "metadata": {},
   "outputs": [
    {
     "name": "stdout",
     "output_type": "stream",
     "text": [
      "Area under the ROC curve - test: 0.878300\n",
      "Area under the ROC curve - train: 0.952903\n"
     ]
    },
    {
     "data": {
      "image/png": "[encoded data removed]",
      "text/plain": [
       "<matplotlib.figure.Figure at 0x117a1ca90>"
      ]
     },
     "metadata": {},
     "output_type": "display_data"
    },
    {
     "data": {
      "text/plain": [
       "<matplotlib.figure.Figure at 0x10a5ca9e8>"
      ]
     },
     "metadata": {},
     "output_type": "display_data"
    }
   ],
   "source": [
    "draw_ROC(gbm, dtrain, dvalid, Y_train, Y_valid)"
   ]
  },
  {
   "cell_type": "code",
   "execution_count": 87,
   "metadata": {},
   "outputs": [],
   "source": [
    "Y_valid_predict = gbm.predict(dvalid)\n",
    "Y_valid_predict = pd.DataFrame(Y_valid_predict)\n",
    "Y_valid_predict = Y_valid_predict.rename(columns = {0: 'prediction'})"
   ]
  },
  {
   "cell_type": "markdown",
   "metadata": {},
   "source": [
    "#### 6.3.3 XGboost - A loosen Threshold Yields a high F1-Score shown below. While the major task in this project is to minimize risk, so i try the higher Threshold minimize the false positive below"
   ]
  },
  {
   "cell_type": "code",
   "execution_count": 88,
   "metadata": {},
   "outputs": [],
   "source": [
    "Y_valid_predict['class'] = Y_valid_predict['prediction'].apply(lambda x: 1 if x >0.3 else 0)"
   ]
  },
  {
   "cell_type": "code",
   "execution_count": 89,
   "metadata": {},
   "outputs": [
    {
     "name": "stdout",
     "output_type": "stream",
     "text": [
      "             precision    recall  f1-score   support\n",
      "\n",
      "        0.0       0.57      0.68      0.62      2002\n",
      "        1.0       0.89      0.83      0.86      6337\n",
      "\n",
      "avg / total       0.81      0.80      0.80      8339\n",
      "\n"
     ]
    }
   ],
   "source": [
    "print (metrics.classification_report(Y_valid,Y_valid_predict['class'] ))"
   ]
  },
  {
   "cell_type": "code",
   "execution_count": 90,
   "metadata": {},
   "outputs": [
    {
     "data": {
      "text/plain": [
       "1    5925\n",
       "0    2414\n",
       "Name: class, dtype: int64"
      ]
     },
     "execution_count": 90,
     "metadata": {},
     "output_type": "execute_result"
    }
   ],
   "source": [
    "Y_valid_predict['class'].value_counts()"
   ]
  },
  {
   "cell_type": "markdown",
   "metadata": {},
   "source": [
    "#### 6.3.4 XGboost Threshold: Tighten for 0.8 Threshold - only allows the safest project to pass through, Achieved 98% precision for class Fully_paid, and 97% recall for class Charged_off or Default"
   ]
  },
  {
   "cell_type": "code",
   "execution_count": 91,
   "metadata": {},
   "outputs": [],
   "source": [
    "Y_valid_predict['class'] = Y_valid_predict['prediction'].apply(lambda x: 1 if x >0.8 else 0)"
   ]
  },
  {
   "cell_type": "code",
   "execution_count": 92,
   "metadata": {},
   "outputs": [
    {
     "name": "stdout",
     "output_type": "stream",
     "text": [
      "             precision    recall  f1-score   support\n",
      "\n",
      "        0.0       0.40      0.97      0.56      2002\n",
      "        1.0       0.98      0.53      0.69      6337\n",
      "\n",
      "avg / total       0.84      0.64      0.66      8339\n",
      "\n"
     ]
    }
   ],
   "source": [
    "print (metrics.classification_report(Y_valid,Y_valid_predict['class'] ))"
   ]
  },
  {
   "cell_type": "code",
   "execution_count": 93,
   "metadata": {},
   "outputs": [
    {
     "data": {
      "text/plain": [
       "0    4920\n",
       "1    3419\n",
       "Name: class, dtype: int64"
      ]
     },
     "execution_count": 93,
     "metadata": {},
     "output_type": "execute_result"
    }
   ],
   "source": [
    "Y_valid_predict['class'].value_counts()"
   ]
  },
  {
   "cell_type": "markdown",
   "metadata": {},
   "source": [
    "#### 6.3.5 Further Tighten for 0.9 threshold - Achieved 100% precision for class Fully_paid, and 100% recall for class Charged_off or Default"
   ]
  },
  {
   "cell_type": "code",
   "execution_count": 94,
   "metadata": {},
   "outputs": [],
   "source": [
    "Y_valid_predict['class'] = Y_valid_predict['prediction'].apply(lambda x: 1 if x >0.9 else 0)"
   ]
  },
  {
   "cell_type": "code",
   "execution_count": 95,
   "metadata": {},
   "outputs": [
    {
     "name": "stdout",
     "output_type": "stream",
     "text": [
      "             precision    recall  f1-score   support\n",
      "\n",
      "        0.0       0.38      1.00      0.55      2002\n",
      "        1.0       1.00      0.48      0.65      6337\n",
      "\n",
      "avg / total       0.85      0.61      0.63      8339\n",
      "\n"
     ]
    }
   ],
   "source": [
    "print (metrics.classification_report(Y_valid,Y_valid_predict['class'] ))"
   ]
  },
  {
   "cell_type": "code",
   "execution_count": 96,
   "metadata": {},
   "outputs": [
    {
     "data": {
      "text/plain": [
       "0    5282\n",
       "1    3057\n",
       "Name: class, dtype: int64"
      ]
     },
     "execution_count": 96,
     "metadata": {},
     "output_type": "execute_result"
    }
   ],
   "source": [
    "Y_valid_predict['class'].value_counts()"
   ]
  },
  {
   "cell_type": "markdown",
   "metadata": {},
   "source": [
    "#### 6.3.6 Comparision: XGboost vs LC Grade. Compare the accuracy for Lending club's own Grading System with the metrics of my XGboost classifer - My XGboost performs much better in terms of the precision and recall for both classes"
   ]
  },
  {
   "cell_type": "code",
   "execution_count": 97,
   "metadata": {},
   "outputs": [],
   "source": [
    "grade = X_valid['grade'].apply(lambda x: 1 if x < 3 else 0)"
   ]
  },
  {
   "cell_type": "code",
   "execution_count": 98,
   "metadata": {},
   "outputs": [
    {
     "name": "stdout",
     "output_type": "stream",
     "text": [
      "             precision    recall  f1-score   support\n",
      "\n",
      "        0.0       0.30      0.69      0.42      2002\n",
      "        1.0       0.83      0.50      0.62      6337\n",
      "\n",
      "avg / total       0.71      0.54      0.57      8339\n",
      "\n"
     ]
    }
   ],
   "source": [
    "print (metrics.classification_report(Y_valid,grade))"
   ]
  },
  {
   "cell_type": "markdown",
   "metadata": {},
   "source": [
    "#### 6.3.7 Discussion for threshold choosing:"
   ]
  },
  {
   "cell_type": "markdown",
   "metadata": {},
   "source": [
    "##### The goal for this project is to identify the projects that have the high interest rate according to the Lending Club Grading system, however, of low risk according to our Model prediction. Given this specific goal, we may choose the high threshold that bar out the risk, and screening for the LC grades that is above D-F, which will yield for a high ROI that accomplish our goal"
   ]
  },
  {
   "cell_type": "markdown",
   "metadata": {},
   "source": [
    "##### Choosing 0.9 as the threshold of our model still retains 37% of the total lenders who are consider safe to invest. And this high-bar threshold almost yield 100% precision in Fully paid on-time. "
   ]
  },
  {
   "cell_type": "markdown",
   "metadata": {},
   "source": [
    "#### 6.3.8 Feature Importance in XGboost"
   ]
  },
  {
   "cell_type": "code",
   "execution_count": 100,
   "metadata": {},
   "outputs": [],
   "source": [
    "# import operator\n",
    "# def create_feature_map(features):\n",
    "#     outfile = open('xgb.fmap', 'w')\n",
    "#     i = 0\n",
    "#     for feat in features:\n",
    "#         outfile.write('{0}\\t{1}\\tq\\n'.format(i, feat))\n",
    "#         i = i + 1\n",
    "#     outfile.close()\n",
    "# features = list(X_train.columns)\n",
    "# create_feature_map(features)"
   ]
  },
  {
   "cell_type": "code",
   "execution_count": 122,
   "metadata": {},
   "outputs": [],
   "source": [
    "importance = gbm.get_score(importance_type='weight')"
   ]
  },
  {
   "cell_type": "code",
   "execution_count": 141,
   "metadata": {},
   "outputs": [],
   "source": [
    "import operator\n",
    "sorted_x = sorted(importance.items(), key=operator.itemgetter(1))"
   ]
  },
  {
   "cell_type": "markdown",
   "metadata": {},
   "source": [
    "#### 6.3.9 XGboost: The 15 Most Important Features"
   ]
  },
  {
   "cell_type": "raw",
   "metadata": {},
   "source": [
    " ('annualinc', 153),\n",
    " ('totalilhighcreditlimit', 154),\n",
    " ('bcopentobuy', 163),\n",
    " ('tothicredlim', 166),\n",
    " ('maxbalbc', 169),\n",
    " ('bcutil', 174),\n",
    " ('mosinoldilacct', 176),\n",
    " ('allutil', 178),\n",
    " ('avgcurbal', 179),\n",
    " ('mosinoldrevtlop', 218),\n",
    " ('revolutil', 220),\n",
    " ('installment', 248),\n",
    " ('intrate', 343),\n",
    " ('dti', 388),\n",
    " ('emptitle_freq', 561)]"
   ]
  },
  {
   "cell_type": "markdown",
   "metadata": {},
   "source": [
    "## 7. Prediction for the Current Projects"
   ]
  },
  {
   "cell_type": "markdown",
   "metadata": {},
   "source": [
    "#### Given the Xgboost classifier and the 0.9 threshold, we select 30 projects"
   ]
  },
  {
   "cell_type": "code",
   "execution_count": 166,
   "metadata": {},
   "outputs": [],
   "source": [
    "# X_test_predict = test_predict.drop(\"loanstatus\", axis=1)"
   ]
  },
  {
   "cell_type": "code",
   "execution_count": 167,
   "metadata": {},
   "outputs": [],
   "source": [
    "X_test_predict_DM = xgb.DMatrix(X_test_predict, missing = np.NAN)\n",
    "gbm_predict = gbm.predict(X_test_predict_DM)\n",
    "gbm_predict = pd.DataFrame(gbm_predict)\n",
    "gbm_predict = gbm_predict.rename(columns = {0: \"prediction\"})\n",
    "gbm_predict['classification'] = gbm_predict['prediction'].apply(lambda x: 1 if x > 0.9 else 0)"
   ]
  },
  {
   "cell_type": "code",
   "execution_count": 168,
   "metadata": {},
   "outputs": [
    {
     "data": {
      "text/plain": [
       "0    33\n",
       "1    30\n",
       "Name: classification, dtype: int64"
      ]
     },
     "execution_count": 168,
     "metadata": {},
     "output_type": "execute_result"
    }
   ],
   "source": [
    "gbm_predict['classification'].value_counts()"
   ]
  },
  {
   "cell_type": "code",
   "execution_count": 173,
   "metadata": {},
   "outputs": [],
   "source": [
    "gbm_predict['LC_Grade'] = df_Curr.grade"
   ]
  },
  {
   "cell_type": "code",
   "execution_count": 178,
   "metadata": {},
   "outputs": [
    {
     "data": {
      "text/html": [
       "<div>\n",
       "<style scoped>\n",
       "    .dataframe tbody tr th:only-of-type {\n",
       "        vertical-align: middle;\n",
       "    }\n",
       "\n",
       "    .dataframe tbody tr th {\n",
       "        vertical-align: top;\n",
       "    }\n",
       "\n",
       "    .dataframe thead th {\n",
       "        text-align: right;\n",
       "    }\n",
       "</style>\n",
       "<table border=\"1\" class=\"dataframe\">\n",
       "  <thead>\n",
       "    <tr style=\"text-align: right;\">\n",
       "      <th></th>\n",
       "      <th>prediction</th>\n",
       "      <th>classification</th>\n",
       "      <th>LC_Grade</th>\n",
       "    </tr>\n",
       "  </thead>\n",
       "  <tbody>\n",
       "    <tr>\n",
       "      <th>2</th>\n",
       "      <td>0.996419</td>\n",
       "      <td>1</td>\n",
       "      <td>C</td>\n",
       "    </tr>\n",
       "    <tr>\n",
       "      <th>3</th>\n",
       "      <td>0.995841</td>\n",
       "      <td>1</td>\n",
       "      <td>A</td>\n",
       "    </tr>\n",
       "    <tr>\n",
       "      <th>5</th>\n",
       "      <td>0.995157</td>\n",
       "      <td>1</td>\n",
       "      <td>B</td>\n",
       "    </tr>\n",
       "    <tr>\n",
       "      <th>6</th>\n",
       "      <td>0.993063</td>\n",
       "      <td>1</td>\n",
       "      <td>C</td>\n",
       "    </tr>\n",
       "    <tr>\n",
       "      <th>7</th>\n",
       "      <td>0.994085</td>\n",
       "      <td>1</td>\n",
       "      <td>D</td>\n",
       "    </tr>\n",
       "    <tr>\n",
       "      <th>9</th>\n",
       "      <td>0.996194</td>\n",
       "      <td>1</td>\n",
       "      <td>A</td>\n",
       "    </tr>\n",
       "    <tr>\n",
       "      <th>11</th>\n",
       "      <td>0.995589</td>\n",
       "      <td>1</td>\n",
       "      <td>C</td>\n",
       "    </tr>\n",
       "    <tr>\n",
       "      <th>17</th>\n",
       "      <td>0.995716</td>\n",
       "      <td>1</td>\n",
       "      <td>C</td>\n",
       "    </tr>\n",
       "    <tr>\n",
       "      <th>19</th>\n",
       "      <td>0.996154</td>\n",
       "      <td>1</td>\n",
       "      <td>A</td>\n",
       "    </tr>\n",
       "    <tr>\n",
       "      <th>21</th>\n",
       "      <td>0.997315</td>\n",
       "      <td>1</td>\n",
       "      <td>B</td>\n",
       "    </tr>\n",
       "    <tr>\n",
       "      <th>24</th>\n",
       "      <td>0.993671</td>\n",
       "      <td>1</td>\n",
       "      <td>A</td>\n",
       "    </tr>\n",
       "    <tr>\n",
       "      <th>26</th>\n",
       "      <td>0.994863</td>\n",
       "      <td>1</td>\n",
       "      <td>C</td>\n",
       "    </tr>\n",
       "    <tr>\n",
       "      <th>27</th>\n",
       "      <td>0.996317</td>\n",
       "      <td>1</td>\n",
       "      <td>E</td>\n",
       "    </tr>\n",
       "    <tr>\n",
       "      <th>28</th>\n",
       "      <td>0.995288</td>\n",
       "      <td>1</td>\n",
       "      <td>A</td>\n",
       "    </tr>\n",
       "    <tr>\n",
       "      <th>33</th>\n",
       "      <td>0.996903</td>\n",
       "      <td>1</td>\n",
       "      <td>A</td>\n",
       "    </tr>\n",
       "    <tr>\n",
       "      <th>35</th>\n",
       "      <td>0.997348</td>\n",
       "      <td>1</td>\n",
       "      <td>B</td>\n",
       "    </tr>\n",
       "    <tr>\n",
       "      <th>36</th>\n",
       "      <td>0.997610</td>\n",
       "      <td>1</td>\n",
       "      <td>C</td>\n",
       "    </tr>\n",
       "    <tr>\n",
       "      <th>37</th>\n",
       "      <td>0.993632</td>\n",
       "      <td>1</td>\n",
       "      <td>D</td>\n",
       "    </tr>\n",
       "    <tr>\n",
       "      <th>40</th>\n",
       "      <td>0.997766</td>\n",
       "      <td>1</td>\n",
       "      <td>A</td>\n",
       "    </tr>\n",
       "    <tr>\n",
       "      <th>43</th>\n",
       "      <td>0.997908</td>\n",
       "      <td>1</td>\n",
       "      <td>B</td>\n",
       "    </tr>\n",
       "    <tr>\n",
       "      <th>45</th>\n",
       "      <td>0.994331</td>\n",
       "      <td>1</td>\n",
       "      <td>B</td>\n",
       "    </tr>\n",
       "    <tr>\n",
       "      <th>46</th>\n",
       "      <td>0.995750</td>\n",
       "      <td>1</td>\n",
       "      <td>C</td>\n",
       "    </tr>\n",
       "    <tr>\n",
       "      <th>48</th>\n",
       "      <td>0.994781</td>\n",
       "      <td>1</td>\n",
       "      <td>C</td>\n",
       "    </tr>\n",
       "    <tr>\n",
       "      <th>50</th>\n",
       "      <td>0.997702</td>\n",
       "      <td>1</td>\n",
       "      <td>B</td>\n",
       "    </tr>\n",
       "    <tr>\n",
       "      <th>51</th>\n",
       "      <td>0.995773</td>\n",
       "      <td>1</td>\n",
       "      <td>A</td>\n",
       "    </tr>\n",
       "    <tr>\n",
       "      <th>52</th>\n",
       "      <td>0.996246</td>\n",
       "      <td>1</td>\n",
       "      <td>C</td>\n",
       "    </tr>\n",
       "    <tr>\n",
       "      <th>54</th>\n",
       "      <td>0.996937</td>\n",
       "      <td>1</td>\n",
       "      <td>C</td>\n",
       "    </tr>\n",
       "    <tr>\n",
       "      <th>56</th>\n",
       "      <td>0.994818</td>\n",
       "      <td>1</td>\n",
       "      <td>A</td>\n",
       "    </tr>\n",
       "    <tr>\n",
       "      <th>57</th>\n",
       "      <td>0.995271</td>\n",
       "      <td>1</td>\n",
       "      <td>C</td>\n",
       "    </tr>\n",
       "    <tr>\n",
       "      <th>60</th>\n",
       "      <td>0.996109</td>\n",
       "      <td>1</td>\n",
       "      <td>A</td>\n",
       "    </tr>\n",
       "  </tbody>\n",
       "</table>\n",
       "</div>"
      ],
      "text/plain": [
       "    prediction  classification LC_Grade\n",
       "2     0.996419               1        C\n",
       "3     0.995841               1        A\n",
       "5     0.995157               1        B\n",
       "6     0.993063               1        C\n",
       "7     0.994085               1        D\n",
       "9     0.996194               1        A\n",
       "11    0.995589               1        C\n",
       "17    0.995716               1        C\n",
       "19    0.996154               1        A\n",
       "21    0.997315               1        B\n",
       "24    0.993671               1        A\n",
       "26    0.994863               1        C\n",
       "27    0.996317               1        E\n",
       "28    0.995288               1        A\n",
       "33    0.996903               1        A\n",
       "35    0.997348               1        B\n",
       "36    0.997610               1        C\n",
       "37    0.993632               1        D\n",
       "40    0.997766               1        A\n",
       "43    0.997908               1        B\n",
       "45    0.994331               1        B\n",
       "46    0.995750               1        C\n",
       "48    0.994781               1        C\n",
       "50    0.997702               1        B\n",
       "51    0.995773               1        A\n",
       "52    0.996246               1        C\n",
       "54    0.996937               1        C\n",
       "56    0.994818               1        A\n",
       "57    0.995271               1        C\n",
       "60    0.996109               1        A"
      ]
     },
     "execution_count": 178,
     "metadata": {},
     "output_type": "execute_result"
    }
   ],
   "source": [
    "gbm_predict.loc[gbm_predict.classification==1]"
   ]
  },
  {
   "cell_type": "markdown",
   "metadata": {},
   "source": [
    "#### Finally, Choosing the Lending Club grade D / E in this list will yield high ROI, like the the row number 27 or 37 in the above list, because they are very safe but high interest rate!"
   ]
  }
 ],
 "metadata": {
  "anaconda-cloud": {},
  "kernelspec": {
   "display_name": "Python 3",
   "language": "python",
   "name": "python3"
  },
  "language_info": {
   "codemirror_mode": {
    "name": "ipython",
    "version": 3
   },
   "file_extension": ".py",
   "mimetype": "text/x-python",
   "name": "python",
   "nbconvert_exporter": "python",
   "pygments_lexer": "ipython3",
   "version": "3.6.4"
  }
 },
 "nbformat": 4,
 "nbformat_minor": 1
}
